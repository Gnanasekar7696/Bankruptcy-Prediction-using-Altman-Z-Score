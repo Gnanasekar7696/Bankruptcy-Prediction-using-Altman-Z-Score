{
 "cells": [
  {
   "cell_type": "markdown",
   "id": "788c6464-3f3b-4878-973c-94dae8cfc7e4",
   "metadata": {},
   "source": [
    "# 🏦 Bankruptcy Prediction using Altman Z‑Score\n",
    "\n",
    "## 📌 Objective\n",
    "Use financial ratios to assess a company’s bankruptcy risk using the Altman Z‑Score model.\n",
    "\n",
    "## 🧠 Model Description\n",
    "Z = 1.2*A + 1.4*B + 3.3*C + 0.6*D + 1.0*E  \n",
    "Where:\n",
    "- A = Working Capital / Total Assets  \n",
    "- B = Retained Earnings / Total Assets  \n",
    "- C = EBIT / Total Assets  \n",
    "- D = Market Value of Equity / Total Liabilities  \n",
    "- E = Sales / Total Assets  \n",
    "\n",
    "## 🧾 Dataset\n",
    "- Financial statement data for multiple companies.\n",
    "- Required columns: Working Capital, EBIT, RE, Assets, Liabilities, Market Cap, Sales.\n",
    "\n",
    "## ✅ Output\n",
    "- Z‑Score for each company.\n",
    "- Risk classification:\n",
    "  - **Z < 1.81** → High Risk  \n",
    "  - **1.81 ≤ Z < 2.99** → Grey Zone  \n",
    "  - **Z ≥ 2.99** → Safe\n",
    "\n",
    "## 🛠 Tools\n",
    "- Python, pandas\n",
    "\n",
    "## 📊 Business Use\n",
    "- Early warning tool for credit analysts, investors, and portfolio managers.\n",
    "- Enhances exposure monitoring for B2B or vendor risk management.\n"
   ]
  },
  {
   "cell_type": "code",
   "execution_count": null,
   "id": "ff00e7dc-8e97-498e-a70a-67e3a62e504f",
   "metadata": {},
   "outputs": [],
   "source": [
    "# Step 1: Import libraries\n",
    "import pandas as pd\n",
    "\n",
    "# Step 2: Load dataset with financials\n",
    "df = pd.read_csv(\"company_financials.csv\")  # Columns must include:\n",
    "# ['Working_Capital', 'Retained_Earnings', 'EBIT', 'Total_Assets', 'Total_Liabilities', 'Market_Value_Equity', 'Sales']\n",
    "\n",
    "# Step 3: Define Altman Z-Score function\n",
    "def compute_z_score(row):\n",
    "    try:\n",
    "        A = 1.2 * row['Working_Capital'] / row['Total_Assets']\n",
    "        B = 1.4 * row['Retained_Earnings'] / row['Total_Assets']\n",
    "        C = 3.3 * row['EBIT'] / row['Total_Assets']\n",
    "        D = 0.6 * row['Market_Value_Equity'] / row['Total_Liabilities']\n",
    "        E = 1.0 * row['Sales'] / row['Total_Assets']\n",
    "        return A + B + C + D + E\n",
    "    except ZeroDivisionError:\n",
    "        return None\n",
    "\n",
    "# Step 4: Apply function to dataset\n",
    "df[\"Z_Score\"] = df.apply(compute_z_score, axis=1)\n",
    "\n",
    "# Step 5: Risk classification\n",
    "df[\"Bankruptcy_Risk\"] = df[\"Z_Score\"].apply(lambda x: \"High Risk\" if x < 1.81 else (\"Grey Zone\" if x < 2.99 else \"Safe\"))\n",
    "\n",
    "# Step 6: Output\n",
    "print(df[[\"Company_Name\", \"Z_Score\", \"Bankruptcy_Risk\"]].head())\n"
   ]
  }
 ],
 "metadata": {
  "kernelspec": {
   "display_name": "Python [conda env:base] *",
   "language": "python",
   "name": "conda-base-py"
  },
  "language_info": {
   "codemirror_mode": {
    "name": "ipython",
    "version": 3
   },
   "file_extension": ".py",
   "mimetype": "text/x-python",
   "name": "python",
   "nbconvert_exporter": "python",
   "pygments_lexer": "ipython3",
   "version": "3.12.7"
  }
 },
 "nbformat": 4,
 "nbformat_minor": 5
}
